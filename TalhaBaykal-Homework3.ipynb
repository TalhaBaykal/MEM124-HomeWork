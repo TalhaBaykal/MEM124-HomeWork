{
 "cells": [
  {
   "cell_type": "code",
   "execution_count": 3,
   "metadata": {},
   "outputs": [
    {
     "name": "stdout",
     "output_type": "stream",
     "text": [
      "please choose 1,2 or 3 \n",
      "2\n",
      "please enter a number: 4\n",
      "1\n",
      "2\n",
      "3\n",
      "4\n"
     ]
    }
   ],
   "source": [
    "a = float(input(\"please choose 1,2 or 3 \\n\"))\n",
    "if a>3:\n",
    "    print(\"please restart the program\",'\\n')\n",
    "if a==1:\n",
    "        print(\"enter x and enter y\",'\\n')\n",
    "        x = int(input(\"x: \"))\n",
    "        y = int(input(\"y: \"))\n",
    "        \n",
    "        z = (x*x + y*y)\n",
    "        z = z**0.5\n",
    "        print(\"hypo: \\n\",z)\n",
    "        \n",
    "elif a==2:\n",
    "    a = int(input(\"please enter a number: \"))\n",
    "    t = 0\n",
    "    while t < a:\n",
    "        t +=1\n",
    "        print(t)\n",
    "        \n",
    "elif a==3:\n",
    "    value1=int(input(\"enter a first number:\"))\n",
    "    value2=int(input(\"enter a second number:\"))\n",
    "    value3=int(input(\"enter a third number:\"))\n",
    "    value4=int(input(\"enter a fourth number:\"))\n",
    "    value5=int(input(\"enter a fifth number:\"))\n",
    "    value6=int(input(\"enter a sixth number:\"))\n",
    "    \n",
    "    print('your values set,respectively:', value1,value2,value3,value4,value5,value6)\n",
    "    result_of_arithmetic=(value1+value2+value3+value4+value5+value6)/6\n",
    "    print('your arithmetic mean is:', result_of_arithmetic)\n",
    "    "
   ]
  },
  {
   "cell_type": "code",
   "execution_count": null,
   "metadata": {},
   "outputs": [],
   "source": []
  },
  {
   "cell_type": "code",
   "execution_count": null,
   "metadata": {},
   "outputs": [],
   "source": []
  }
 ],
 "metadata": {
  "kernelspec": {
   "display_name": "Python 3",
   "language": "python",
   "name": "python3"
  },
  "language_info": {
   "codemirror_mode": {
    "name": "ipython",
    "version": 3
   },
   "file_extension": ".py",
   "mimetype": "text/x-python",
   "name": "python",
   "nbconvert_exporter": "python",
   "pygments_lexer": "ipython3",
   "version": "3.7.4"
  }
 },
 "nbformat": 4,
 "nbformat_minor": 2
}
